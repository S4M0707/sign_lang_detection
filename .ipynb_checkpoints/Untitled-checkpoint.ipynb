{
 "cells": [
  {
   "cell_type": "code",
   "execution_count": 1,
   "id": "4d49f44e",
   "metadata": {},
   "outputs": [
    {
     "name": "stdout",
     "output_type": "stream",
     "text": [
      "Package               Version\n",
      "--------------------- --------\n",
      "absl-py               1.4.0\n",
      "asttokens             2.2.1\n",
      "attrs                 23.1.0\n",
      "backcall              0.2.0\n",
      "cffi                  1.15.1\n",
      "comm                  0.1.3\n",
      "contourpy             1.0.7\n",
      "cycler                0.11.0\n",
      "debugpy               1.6.7\n",
      "decorator             5.1.1\n",
      "executing             1.2.0\n",
      "flatbuffers           23.5.9\n",
      "fonttools             4.39.4\n",
      "ipykernel             6.23.1\n",
      "ipython               8.13.2\n",
      "jedi                  0.18.2\n",
      "jupyter_client        8.2.0\n",
      "jupyter_core          5.3.0\n",
      "kiwisolver            1.4.4\n",
      "matplotlib            3.7.1\n",
      "matplotlib-inline     0.1.6\n",
      "mediapipe             0.10.0\n",
      "nest-asyncio          1.5.6\n",
      "numpy                 1.24.3\n",
      "opencv-contrib-python 4.7.0.72\n",
      "opencv-python         4.7.0.72\n",
      "packaging             23.1\n",
      "parso                 0.8.3\n",
      "pexpect               4.8.0\n",
      "pickleshare           0.7.5\n",
      "Pillow                9.5.0\n",
      "pip                   22.3.1\n",
      "platformdirs          3.5.1\n",
      "prompt-toolkit        3.0.38\n",
      "protobuf              3.20.3\n",
      "psutil                5.9.5\n",
      "ptyprocess            0.7.0\n",
      "pure-eval             0.2.2\n",
      "pycparser             2.21\n",
      "Pygments              2.15.1\n",
      "pyparsing             3.0.9\n",
      "python-dateutil       2.8.2\n",
      "pyzmq                 25.0.2\n",
      "setuptools            65.5.0\n",
      "six                   1.16.0\n",
      "sounddevice           0.4.6\n",
      "stack-data            0.6.2\n",
      "tornado               6.3.2\n",
      "traitlets             5.9.0\n",
      "wcwidth               0.2.6\n",
      "\n",
      "\u001b[1m[\u001b[0m\u001b[34;49mnotice\u001b[0m\u001b[1;39;49m]\u001b[0m\u001b[39;49m A new release of pip available: \u001b[0m\u001b[31;49m22.3.1\u001b[0m\u001b[39;49m -> \u001b[0m\u001b[32;49m23.1.2\u001b[0m\n",
      "\u001b[1m[\u001b[0m\u001b[34;49mnotice\u001b[0m\u001b[1;39;49m]\u001b[0m\u001b[39;49m To update, run: \u001b[0m\u001b[32;49mpip install --upgrade pip\u001b[0m\n"
     ]
    }
   ],
   "source": [
    "!pip list"
   ]
  },
  {
   "cell_type": "code",
   "execution_count": null,
   "id": "dfa96f2e",
   "metadata": {},
   "outputs": [],
   "source": []
  }
 ],
 "metadata": {
  "kernelspec": {
   "display_name": "Python 3 (ipykernel)",
   "language": "python",
   "name": "python3"
  },
  "language_info": {
   "codemirror_mode": {
    "name": "ipython",
    "version": 3
   },
   "file_extension": ".py",
   "mimetype": "text/x-python",
   "name": "python",
   "nbconvert_exporter": "python",
   "pygments_lexer": "ipython3",
   "version": "3.10.9"
  }
 },
 "nbformat": 4,
 "nbformat_minor": 5
}

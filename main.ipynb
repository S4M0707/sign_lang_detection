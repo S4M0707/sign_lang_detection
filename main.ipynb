{
 "cells": [
  {
   "cell_type": "code",
   "execution_count": null,
   "id": "3d23887d",
   "metadata": {},
   "outputs": [],
   "source": [
    "import numpy as np\n",
    "import os\n",
    "import time\n",
    "import mediapipe as mp\n",
    "import cv2\n",
    "import matplotlib.pyplot as plt"
   ]
  },
  {
   "cell_type": "code",
   "execution_count": null,
   "id": "960267e3",
   "metadata": {},
   "outputs": [],
   "source": [
    "mpipe_holistic = mp.solutions.holistic\n",
    "mpipe_drawing = mp.solutions.drawing_utils"
   ]
  },
  {
   "cell_type": "code",
   "execution_count": null,
   "id": "6be27a44",
   "metadata": {},
   "outputs": [],
   "source": [
    "def mpipe_detection(image, model):\n",
    "    image = cv2.cvtColor(image, cv2.COLOR_BGR2RGB)\n",
    "    image.flags.writeable = False\n",
    "    result = model.process(image)\n",
    "    image.flags.writeable = True\n",
    "    image = cv2.cvtColor(image, cv2.COLOR_RGB2BGR)\n",
    "    \n",
    "    return result, image"
   ]
  },
  {
   "cell_type": "code",
   "execution_count": null,
   "id": "2f3e2402",
   "metadata": {},
   "outputs": [],
   "source": [
    "def draw_landmarks(image, result):\n",
    "    # For face landmarks\n",
    "    mpipe_drawing.draw_landmarks(image, result.face_landmarks, mpipe_holistic.FACEMESH_CONTOURS,\n",
    "                              mpipe_drawing.DrawingSpec(color=(0, 0, 255), thickness=1, circle_radius=1),\n",
    "                              mpipe_drawing.DrawingSpec(color=(0, 255, 0), thickness=1, circle_radius=1),\n",
    "                             )\n",
    "    \n",
    "    # For pose landmarks\n",
    "    mpipe_drawing.draw_landmarks(image, result.pose_landmarks, mpipe_holistic.POSE_CONNECTIONS,\n",
    "                              mpipe_drawing.DrawingSpec(color=(0, 0, 255), thickness=1, circle_radius=1),\n",
    "                              mpipe_drawing.DrawingSpec(color=(0, 255, 0), thickness=1, circle_radius=1),\n",
    "                             )\n",
    "    \n",
    "    # For left hand landmarks\n",
    "    mpipe_drawing.draw_landmarks(image, result.left_hand_landmarks, mpipe_holistic.HAND_CONNECTIONS,\n",
    "                              mpipe_drawing.DrawingSpec(color=(0, 0, 255), thickness=1, circle_radius=4),\n",
    "                              mpipe_drawing.DrawingSpec(color=(255, 255, 0), thickness=1, circle_radius=2),\n",
    "                             )\n",
    "    \n",
    "    # For right hand landmarks\n",
    "    mpipe_drawing.draw_landmarks(image, result.right_hand_landmarks, mpipe_holistic.HAND_CONNECTIONS,\n",
    "                              mpipe_drawing.DrawingSpec(color=(0, 0, 255), thickness=1, circle_radius=4),\n",
    "                              mpipe_drawing.DrawingSpec(color=(0, 255, 255), thickness=1, circle_radius=2),\n",
    "                             )    "
   ]
  },
  {
   "cell_type": "code",
   "execution_count": null,
   "id": "152fcccf",
   "metadata": {},
   "outputs": [],
   "source": [
    "# capture = cv2.VideoCapture(0)\n",
    "# with mpipe_holistic.Holistic(min_detection_confidence = 0.5, min_tracking_confidence = 0.5) as holistic:\n",
    "#     while(capture.isOpened()):\n",
    "#         ret, frame = capture.read()\n",
    "        \n",
    "#         result, img = mpipe_detection(frame, holistic)\n",
    "#         draw_landmarks(img, result)\n",
    "        \n",
    "#         cv2.imshow(\"Video\", img)\n",
    "\n",
    "#         if cv2.waitKey(10) & 0xFF == ord('q'):\n",
    "#             break\n",
    "\n",
    "#     capture.release()\n",
    "#     cv2.destroyAllWindows()"
   ]
  },
  {
   "cell_type": "code",
   "execution_count": null,
   "id": "5b663e48",
   "metadata": {},
   "outputs": [],
   "source": [
    "def to_array_keypoints(res_landmarks):\n",
    "    pose = np.array([[res.x, res.y, res.z, res.visibility] for res in res_landmarks.pose_landmarks.landmark]).flatten() if res_landmarks.pose_landmarks else np.zeros(33 * 4)\n",
    "    left_hand = np.array([[res.x, res.y, res.z] for res in res_landmarks.left_hand_landmarks.landmark]).flatten() if res_landmarks.left_hand_landmarks else np.zeros(21 * 3)\n",
    "    right_hand = np.array([[res.x, res.y, res.z] for res in res_landmarks.right_hand_landmarks.landmark]).flatten() if res_landmarks.right_hand_landmarks else np.zeros(21 * 3)\n",
    "    face = np.array([[res.x, res.y, res.z] for res in res_landmarks.face_landmarks.landmark]).flatten() if res_landmarks.face_landmarks else np.zeros(468 * 3)\n",
    "    \n",
    "    return np.concatenate([face, pose, left_hand, right_hand])"
   ]
  },
  {
   "cell_type": "code",
   "execution_count": null,
   "id": "d7ff4d53",
   "metadata": {},
   "outputs": [],
   "source": [
    "data_path = os.path.join(os.getcwd(), 'data')\n",
    "\n",
    "actions = np.array(['hello', 'thanks', 'namaste'])\n",
    "\n",
    "num_sequence = 30\n",
    "len_sequence = 30"
   ]
  },
  {
   "cell_type": "code",
   "execution_count": null,
   "id": "7fac1575",
   "metadata": {},
   "outputs": [],
   "source": [
    "for action in actions:\n",
    "    for sequence in range(num_sequence):\n",
    "        try:\n",
    "            os.makedirs(os.path.join(data_path, str(action), str(sequence)))\n",
    "        except:\n",
    "            pass"
   ]
  },
  {
   "cell_type": "code",
   "execution_count": null,
   "id": "e7536861",
   "metadata": {},
   "outputs": [],
   "source": [
    "capture = cv2.VideoCapture(0)\n",
    "with mpipe_holistic.Holistic(min_detection_confidence = 0.5, min_tracking_confidence = 0.5) as holistic:\n",
    "    \n",
    "    for action in actions:\n",
    "        for sequence in range(num_sequence):\n",
    "            for frame_idx in range(len_sequence):\n",
    "                \n",
    "                # frame capture\n",
    "                ret, frame = capture.read()\n",
    "\n",
    "                result, img = mpipe_detection(frame, holistic)\n",
    "                draw_landmarks(img, result)\n",
    "                \n",
    "                if frame_idx == 0:\n",
    "                    cv2.putText(img, str(action), (120, 200),\n",
    "                                cv2.FONT_HERSHEY_PLAIN, 4, (0, 255, 0), 4, cv2.LINE_AA)\n",
    "                \n",
    "                cv2.putText(img, 'Action: {} Sequence {}'.format(action, sequence), (15, 12),\n",
    "                            cv2.FONT_HERSHEY_PLAIN, 0.5, (0, 0, 255), 1, cv2.LINE_AA)\n",
    "\n",
    "                # exporting keypoints\n",
    "                np_data = to_array_keypoints(result)\n",
    "                np_path = os.path.join(data_path, str(action), str(sequence), str(frame_idx))\n",
    "                np.save(np_path, np_data)\n",
    "\n",
    "                cv2.imshow(\"Video\", img)\n",
    "                \n",
    "                if frame_idx == 0:\n",
    "                    cv2.waitKey(2000)\n",
    "\n",
    "                if cv2.waitKey(10) & 0xFF == ord('q'):\n",
    "                    break\n",
    "\n",
    "    capture.release()\n",
    "    cv2.destroyAllWindows()"
   ]
  },
  {
   "cell_type": "code",
   "execution_count": null,
   "id": "4cb8fc1d",
   "metadata": {},
   "outputs": [],
   "source": []
  }
 ],
 "metadata": {
  "kernelspec": {
   "display_name": "Python [conda env:sign] *",
   "language": "python",
   "name": "conda-env-sign-py"
  },
  "language_info": {
   "codemirror_mode": {
    "name": "ipython",
    "version": 3
   },
   "file_extension": ".py",
   "mimetype": "text/x-python",
   "name": "python",
   "nbconvert_exporter": "python",
   "pygments_lexer": "ipython3",
   "version": "3.9.16"
  }
 },
 "nbformat": 4,
 "nbformat_minor": 5
}
